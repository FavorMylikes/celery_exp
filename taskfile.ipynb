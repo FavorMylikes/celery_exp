{
 "cells": [
  {
   "cell_type": "code",
   "execution_count": 7,
   "metadata": {
    "collapsed": true
   },
   "outputs": [],
   "source": [
    "# from proj import app\n",
    "# app.start(argv=['tasks', 'worker', '--loglevel=info'])"
   ]
  },
  {
   "cell_type": "code",
   "execution_count": 1,
   "metadata": {
    "collapsed": true
   },
   "outputs": [],
   "source": [
    "from celery import group,chain,chord,chunks\n",
    "from proj.tasks import *\n",
    "import time"
   ]
  },
  {
   "cell_type": "code",
   "execution_count": 9,
   "metadata": {},
   "outputs": [
    {
     "data": {
      "text/plain": [
       "4"
      ]
     },
     "execution_count": 9,
     "metadata": {},
     "output_type": "execute_result"
    }
   ],
   "source": [
    "add.delay(2,2).get()"
   ]
  },
  {
   "cell_type": "code",
   "execution_count": 10,
   "metadata": {},
   "outputs": [
    {
     "data": {
      "text/plain": [
       "4"
      ]
     },
     "execution_count": 10,
     "metadata": {},
     "output_type": "execute_result"
    }
   ],
   "source": [
    "s=add.s(2,2)\n",
    "s.delay().get()"
   ]
  },
  {
   "cell_type": "code",
   "execution_count": 11,
   "metadata": {},
   "outputs": [
    {
     "data": {
      "text/plain": [
       "[0, 2, 4, 6]"
      ]
     },
     "execution_count": 11,
     "metadata": {},
     "output_type": "execute_result"
    }
   ],
   "source": [
    "group(add.s(i,i) for i in range(4))().get()"
   ]
  },
  {
   "cell_type": "code",
   "execution_count": 12,
   "metadata": {},
   "outputs": [
    {
     "data": {
      "text/plain": [
       "10"
      ]
     },
     "execution_count": 12,
     "metadata": {},
     "output_type": "execute_result"
    }
   ],
   "source": [
    "chain(add.s(1)|add.s(2)|add.s(3))(4).get()"
   ]
  },
  {
   "cell_type": "code",
   "execution_count": 13,
   "metadata": {},
   "outputs": [
    {
     "data": {
      "text/plain": [
       "4"
      ]
     },
     "execution_count": 13,
     "metadata": {},
     "output_type": "execute_result"
    }
   ],
   "source": [
    "#对add使用专用队列，启动worker的时候注意使用-Q queue_add 命令，configuration中注意queue_add\n",
    "s=add.signature((2,2),queue='queue_add')\n",
    "res=s.delay()\n",
    "res.get()"
   ]
  },
  {
   "cell_type": "code",
   "execution_count": 14,
   "metadata": {},
   "outputs": [
    {
     "data": {
      "text/plain": [
       "0.5"
      ]
     },
     "execution_count": 14,
     "metadata": {},
     "output_type": "execute_result"
    }
   ],
   "source": [
    "div.s((1,2)).delay().get()"
   ]
  },
  {
   "cell_type": "code",
   "execution_count": 15,
   "metadata": {},
   "outputs": [
    {
     "data": {
      "text/plain": [
       "0.19999999999999996"
      ]
     },
     "execution_count": 15,
     "metadata": {},
     "output_type": "execute_result"
    }
   ],
   "source": [
    "# chain(modf.s(1.2)|div.s())().get()\n",
    "chain(modf.s(1.2)|div.s())().get()"
   ]
  },
  {
   "cell_type": "code",
   "execution_count": 7,
   "metadata": {},
   "outputs": [
    {
     "data": {
      "text/plain": [
       "[<AsyncResult: 6ab32896-4272-45d2-ab5e-a0ff892937e7>,\n",
       " <AsyncResult: 98b18315-ee15-40e7-8a6d-a3495b14e75e>,\n",
       " <AsyncResult: 6f19646e-64c7-4aa7-921a-4242e101bc05>,\n",
       " <AsyncResult: 60e06d36-8e5b-46ac-ab25-9d9e0a059015>,\n",
       " <AsyncResult: 8d041c9b-d995-4f3d-80ff-8d39037bfe5f>,\n",
       " <AsyncResult: ca2e11bc-1337-44b2-8f41-13bd0ea9c7fa>,\n",
       " <AsyncResult: cf9398c9-0d8d-432d-a344-b1bc328e54e7>,\n",
       " <AsyncResult: d32aa94c-7435-4e0e-93c8-dc1db7844ee8>,\n",
       " <AsyncResult: ceaa2402-8d42-4f68-9b80-38fd01a99418>,\n",
       " <AsyncResult: 44f4ad28-6d01-4cb5-a84e-9c33164efb95>,\n",
       " <AsyncResult: 8fe30869-d87b-4554-97b1-09423a36b958>,\n",
       " <AsyncResult: bd9ee504-cfe5-425f-98ae-93d5e67428c4>,\n",
       " <AsyncResult: f9504f80-d047-4960-8562-793fdc07b5ec>,\n",
       " <AsyncResult: 0800654d-6d11-4668-837f-d93b5e05b9c6>,\n",
       " <AsyncResult: 000dc7ad-ddfe-4352-ad38-b91cc53e0018>,\n",
       " <AsyncResult: 146dabb5-573c-4a0f-a3d0-f0f8aa4eb80f>,\n",
       " <AsyncResult: f0b5e90d-277b-4628-8340-a20d6c149ce8>,\n",
       " <AsyncResult: 4e26c4ed-02c3-4868-8409-19dd8f4b991a>,\n",
       " <AsyncResult: 8f85f74c-1a64-481e-9d32-67c16831002e>,\n",
       " <AsyncResult: 0c1000cc-b586-4c3d-9c35-6501d0567603>,\n",
       " <AsyncResult: 61aaa529-98f4-48f2-b16b-03fa3ad40188>,\n",
       " <AsyncResult: 1c166cae-faf2-4af3-9f3c-cf6b7ff9a136>,\n",
       " <AsyncResult: 4738236b-7b0c-4026-ab72-732f1c340975>,\n",
       " <AsyncResult: 817acdad-f397-46da-892d-071106b1ecbf>,\n",
       " <AsyncResult: d5d5d308-9319-4e50-8c9f-aeb4e442b82c>,\n",
       " <AsyncResult: 349b52c6-9ed4-4b63-ac79-575956eb7a8d>,\n",
       " <AsyncResult: 7efb7ba0-3b0c-4805-9ffc-dbffb1060c86>,\n",
       " <AsyncResult: f755d50c-2c07-4ae7-897c-69e399c67153>,\n",
       " <AsyncResult: 4fcf6b81-e4c8-4979-bbdf-59aa45d07c51>,\n",
       " <AsyncResult: f08c1d63-ab2c-4bde-a060-99fef3a101c6>,\n",
       " <AsyncResult: 60cb9650-5448-455a-87b0-55515b25d3c0>,\n",
       " <AsyncResult: b2e84e23-661c-4500-99ef-06e6e27efad6>,\n",
       " <AsyncResult: 65a0a2cf-06d4-40ee-82b8-8a5d2c63480d>,\n",
       " <AsyncResult: ca85e757-e0e7-4d19-aa69-5bf2252ace32>,\n",
       " <AsyncResult: df686a1e-b2d3-4b15-b4aa-e12f7d11fbca>,\n",
       " <AsyncResult: c7f380cf-7eaa-46e2-821c-bc1f49872d00>,\n",
       " <AsyncResult: 55113742-8017-4b09-89f0-953280ed258e>,\n",
       " <AsyncResult: c43e249d-66fa-45da-84a1-e6fd964e0045>,\n",
       " <AsyncResult: 9c3580e2-8cad-49c1-a307-01d627eb4356>,\n",
       " <AsyncResult: 3d87bbb6-3c9a-4c93-ae1c-75cee828fb64>,\n",
       " <AsyncResult: 47aeba1d-e1fc-45bf-8ff9-f75cc3eb1e05>,\n",
       " <AsyncResult: dc9ae015-ba72-4993-b4e5-d11b6a5577c0>,\n",
       " <AsyncResult: d5637739-1884-42d7-bde5-aa4e32669387>,\n",
       " <AsyncResult: 57a15acf-2236-4ba5-9975-5242561c397b>,\n",
       " <AsyncResult: 09dc86bc-02a9-412b-87c2-6d8338572d1b>,\n",
       " <AsyncResult: 362a6946-4e9f-48af-b709-10869f4e0a55>,\n",
       " <AsyncResult: b62450c7-d310-47d1-8f81-50abf7f41b14>,\n",
       " <AsyncResult: 01c82340-ceee-4a26-8a56-5374235e032d>,\n",
       " <AsyncResult: 7ce6d587-c27f-4b32-93bb-f612d665c996>,\n",
       " <AsyncResult: 69e9a70b-55da-4027-8961-b92f6f3561ca>,\n",
       " <AsyncResult: 59ed2eea-f182-4253-aefc-85a2be80d5bf>,\n",
       " <AsyncResult: d8178479-8250-4000-9e7b-e5138d2e70ed>,\n",
       " <AsyncResult: 9637bfb6-dff0-453f-a3ff-b7b0d3ff0f81>,\n",
       " <AsyncResult: 7897b32d-399e-48a7-a316-bad90b590862>,\n",
       " <AsyncResult: 23a5e7d2-eef8-4a1a-8467-f540cd0db74e>,\n",
       " <AsyncResult: c4108821-6005-4f44-9a71-eebd803d75c7>,\n",
       " <AsyncResult: 4970f31d-d57b-4655-8989-3481add90f7d>,\n",
       " <AsyncResult: 9d7f4624-06db-4e57-8b7e-70ebf6e3d5af>,\n",
       " <AsyncResult: 3eafe797-9a2a-46d2-8df9-784003f1de26>,\n",
       " <AsyncResult: 88f6bced-6b1a-436c-84bf-799e2874824e>,\n",
       " <AsyncResult: 9b5fd66c-fe75-4ebd-90eb-f7e293913f99>,\n",
       " <AsyncResult: 0bfe517b-5eeb-439d-9815-e726f0fb577c>,\n",
       " <AsyncResult: 12759221-d3fc-4a25-917b-80809da79a65>,\n",
       " <AsyncResult: fe502238-877b-474a-a14e-fc5ae886265b>,\n",
       " <AsyncResult: dec616fc-0ebf-46da-a675-611aa9bba975>,\n",
       " <AsyncResult: a8ca049c-dfe9-4890-9359-cadfb08ccdab>,\n",
       " <AsyncResult: 28926c16-d664-443a-b45a-c3c1f7650a5d>,\n",
       " <AsyncResult: d4ae8755-8a27-4bc9-ac0a-9c29174fbec1>,\n",
       " <AsyncResult: 03bf5d19-22b9-4aa0-9744-53eec216716f>,\n",
       " <AsyncResult: d782cec1-6d53-4fb6-a41c-5900c81d97ea>,\n",
       " <AsyncResult: d8bee6e7-0a1c-427a-8015-2822a226aa42>,\n",
       " <AsyncResult: 64d68c7b-b929-4a46-97af-92b71b03a7c8>,\n",
       " <AsyncResult: c8672ee6-dc92-4cff-bc47-47e197386a97>,\n",
       " <AsyncResult: 6778d14c-ff71-462b-8256-c7514c879ead>,\n",
       " <AsyncResult: 4aefb5ba-b9ed-4216-b404-ff06bec81a8d>,\n",
       " <AsyncResult: e7bf3adb-ed74-4eda-b024-d7bc5753a7a3>,\n",
       " <AsyncResult: 9046d9f8-5de5-4981-ba42-bbbdb49e30a3>,\n",
       " <AsyncResult: f5076cdf-0c73-4083-b1d1-126f915ceee7>,\n",
       " <AsyncResult: 995ff2fa-e5aa-4ab8-bb39-f5db51b926be>,\n",
       " <AsyncResult: 9212db83-95a2-43b7-84a1-b94f97e336b6>,\n",
       " <AsyncResult: fade17a2-80cb-4df6-936a-e531f66f2a60>,\n",
       " <AsyncResult: a33b7cdd-d158-4b45-b029-2858332dc1cf>,\n",
       " <AsyncResult: ce710efb-fe2d-42f7-9f8c-c07269d013dc>,\n",
       " <AsyncResult: 65a2255c-935d-4f15-bcb5-76849efd9785>,\n",
       " <AsyncResult: 898c76b7-6f35-4e97-8b06-e1f3c3f4be47>,\n",
       " <AsyncResult: 80205337-61be-436f-8549-00fde02092b2>,\n",
       " <AsyncResult: c0eff76b-1384-49e3-a28d-1d72eca8cd68>,\n",
       " <AsyncResult: fea2263d-6363-46ef-8a0c-7322f7616795>,\n",
       " <AsyncResult: 491c5124-ceeb-4c7f-94d8-03fc7a3f6791>,\n",
       " <AsyncResult: 411abcfa-89f2-4110-9981-481d5c2b4604>,\n",
       " <AsyncResult: f5d7a522-4398-4176-9e8b-bdc4e9506d1a>,\n",
       " <AsyncResult: ab240f02-6938-4c1b-968f-ec971d67960f>,\n",
       " <AsyncResult: 30009bf5-1437-4923-a078-bac7bec2c1b7>,\n",
       " <AsyncResult: 33efc6f8-ad73-4cab-b947-16db49d8fa5c>,\n",
       " <AsyncResult: 3190d633-d917-412a-9921-397d6fbbcb5e>,\n",
       " <AsyncResult: 2487fc55-9580-4552-b6e9-c9c0d8b0995c>,\n",
       " <AsyncResult: c05aebb8-adf2-47a2-93ed-a6dd7cb319fb>,\n",
       " <AsyncResult: 68d2ecc8-35f3-406f-b88f-e6fde59e6a42>,\n",
       " <AsyncResult: 5da0659b-5cf5-4ff3-998d-ae3a10353a18>,\n",
       " <AsyncResult: 1c300861-3165-434b-bbdb-981e51698703>]"
      ]
     },
     "execution_count": 7,
     "metadata": {},
     "output_type": "execute_result"
    }
   ],
   "source": [
    "[send_email.s(\"This is a email message\").delay() for i in range(100)]"
   ]
  },
  {
   "cell_type": "code",
   "execution_count": null,
   "metadata": {
    "collapsed": true
   },
   "outputs": [],
   "source": []
  }
 ],
 "metadata": {
  "kernelspec": {
   "display_name": "Python 3",
   "language": "python",
   "name": "python3"
  },
  "language_info": {
   "codemirror_mode": {
    "name": "ipython",
    "version": 3
   },
   "file_extension": ".py",
   "mimetype": "text/x-python",
   "name": "python",
   "nbconvert_exporter": "python",
   "pygments_lexer": "ipython3",
   "version": "3.5.2"
  }
 },
 "nbformat": 4,
 "nbformat_minor": 1
}
